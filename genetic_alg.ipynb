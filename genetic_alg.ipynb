{
 "cells": [
  {
   "cell_type": "markdown",
   "metadata": {},
   "source": [
    "# Algorytm genetyczny"
   ]
  },
  {
   "cell_type": "markdown",
   "metadata": {},
   "source": [
    "## Cel doświadczenia\n",
    "\n",
    "Zbadanie modelu podanego w opisie ćwiczenia za pomcą algorytmu genetycznego z selekcją ruletkową, kryżowaniem jednopunktowym i sukcesją generacyjną.\n",
    "Porównanie wpływu wybranego hiperparametru na wynik doświadczenia.\n",
    "\n",
    "Wybrany hiperparametr **prawdopodobieństwo mutacji**"
   ]
  },
  {
   "cell_type": "markdown",
   "metadata": {},
   "source": [
    "## Funkcja celu\n",
    "\n",
    "Ewaluuje ona zysk osobników w danej populacji."
   ]
  },
  {
   "cell_type": "code",
   "execution_count": 41,
   "metadata": {},
   "outputs": [],
   "source": [
    "import math\n",
    "\n",
    "def evaluation(population: list):\n",
    "    speed = 0\n",
    "    acceleration = -0.09\n",
    "    score_list = []\n",
    "    for individual in population:\n",
    "        individual_score = 0\n",
    "        mass = 200\n",
    "        distance = 200\n",
    "\n",
    "        fuel = 0\n",
    "        for x in individual:\n",
    "            fuel += 1 if x == 1 else 0\n",
    "\n",
    "        mass += fuel\n",
    "        for value in individual:\n",
    "            if value == 1:\n",
    "                acceleration = -0.09 + 45/mass\n",
    "                mass -= 1\n",
    "            else:\n",
    "                acceleration = -0.09\n",
    "\n",
    "            # time = 1 so we do not need to write it\n",
    "            distance += speed\n",
    "            speed +=  acceleration\n",
    "\n",
    "            if distance < 2 and math.fabs(speed) < 2:\n",
    "                individual_score = 2000 - fuel\n",
    "                break\n",
    "        else:\n",
    "            individual_score = -1000 - fuel\n",
    "        \n",
    "        score_list.append(individual_score)\n",
    "\n",
    "    return score_list"
   ]
  },
  {
   "cell_type": "markdown",
   "metadata": {},
   "source": [
    "## Interfejs algorytmu"
   ]
  },
  {
   "cell_type": "code",
   "execution_count": 42,
   "metadata": {},
   "outputs": [],
   "source": [
    "from abc import ABC, abstractmethod\n",
    "import random\n",
    "import math\n",
    "\n",
    "class Solver(ABC):\n",
    "    \"\"\"A solver. It may be initialized with some hyperparameters.\"\"\"\n",
    "\n",
    "    @abstractmethod\n",
    "    def get_parameters(self):\n",
    "        \"\"\"Returns a dictionary of hyperparameters\"\"\"\n",
    "        pass\n",
    "\n",
    "    @abstractmethod\n",
    "    def solve(self, problem, pop0, *args, **kwargs):\n",
    "        \"\"\"\n",
    "        A method that solves the given problem for given initial solutions.\n",
    "        It may accept or require additional parameters.\n",
    "        Returns the solution and may return additional info.\n",
    "        \"\"\"\n",
    "        pass"
   ]
  },
  {
   "cell_type": "markdown",
   "metadata": {},
   "source": [
    "## Algorytm\n",
    "\n",
    "\n",
    "#### Funkcja solve\n",
    "\n",
    "Aktywuje algorytm dla zadanych parametrów. Należy podać jej funckję celu i populację, można podać jej też hiperparametry poprzez mechanizm **kwargs.\n",
    "\n",
    "**W przypadku nie podania hiperparametrów algorytm wystartuje z ich domyślnymi wartościami.**\n",
    "\n",
    "Hiperparametry:\n",
    "* quantity_of_population \n",
    "* mutation_possibility  (domyślnie 0.01)\n",
    "* crossing_possibility  (domyślnie 0.6)\n",
    "* max_iteration (domyślnie 25)\n",
    "\n",
    "\n",
    "#### Funkcja get_parameters\n",
    "\n",
    "Zwraca domyślnie hiperparametry w postaci słownika."
   ]
  },
  {
   "cell_type": "code",
   "execution_count": 43,
   "metadata": {},
   "outputs": [],
   "source": [
    "import random\n",
    "\n",
    "class GeneticAlgorithm(Solver):\n",
    "\n",
    "    def __init__(self) -> None:\n",
    "        self.quantity_of_population = 200\n",
    "        \n",
    "        self.mutation_possibility = 0.01\n",
    "        self.crosing_possibility = 0.7\n",
    "        self.max_iteration = 25\n",
    "        self.hyperparameters = {\n",
    "            'quantity_of_population': self.quantity_of_population,\n",
    "            \"mutation_possibility\": self.mutation_possibility,\n",
    "            'crossing_possibility': self.crosing_possibility,\n",
    "            'max_iteration': self.max_iteration\n",
    "        }\n",
    "  \n",
    "\n",
    "\n",
    "    def get_parameters(self):\n",
    "        'Return default parmetrs in a dictionary'\n",
    "        return self.hyperparameters\n",
    "    \n",
    "    \n",
    "    \n",
    "    def _find_the_best(self, population, score_list):\n",
    "        'Choose an individual with the highest score'\n",
    "        best_score = max(score_list)\n",
    "        best_index = score_list.index(best_score)\n",
    "        best_individual = population[best_index]\n",
    "        return best_individual, best_score\n",
    "\n",
    "    \n",
    "    def _scaling(self, weights: list):\n",
    "        if max(weights) != min(weights):\n",
    "            return [(x - min(weights)/(max(weights) - min(weights))) for x in weights ]\n",
    "        else:\n",
    "            return [1 for x in weights]\n",
    "            \n",
    "\n",
    "\n",
    "    def _reproduction(self, population, score_list):\n",
    "        'Roulette selection'\n",
    "        size = len(population)\n",
    "\n",
    "        # Making all weights positive\n",
    "        weights = [score + 1300 for score in score_list]\n",
    "\n",
    "        weights = self._scaling(weights)\n",
    "        suma = sum(weights)\n",
    "        pass\n",
    "        next_generation = random.choices(population, weights=weights, k=size)\n",
    "        \n",
    "        return next_generation\n",
    "\n",
    "    \n",
    "    def _corssing_individuals(self, individual1, individual2):\n",
    "        'Cross two individuals'\n",
    "        length = len(individual1)\n",
    "\n",
    "        crossing_point = random.randint(0, length)\n",
    "\n",
    "        for index in range(0, crossing_point):\n",
    "            individual2[index] = individual1[index]\n",
    "        \n",
    "        for index in range(crossing_point, length):\n",
    "            individual1[index] = individual2[index]\n",
    "\n",
    "        return individual1, individual2\n",
    "    \n",
    "\n",
    "    def _choosing_if_we_exchange(self, possibility):\n",
    "        'Draw betwen two possibilities taking in consideration probabilities of those elements'\n",
    "        possibilities = [True, False]\n",
    "        possibility_not = 1 - possibility\n",
    "        weights = [possibility, possibility_not]\n",
    "        decision = random.choices(possibilities, weights, k=1)\n",
    "\n",
    "        return decision[0]\n",
    "\n",
    "    \n",
    "    def _crossing(self, population, probability):\n",
    "        'Crossing individual in the given population'\n",
    "        # assuming that the population is even\n",
    "        crossings_quantity = int(len(population)/2)\n",
    "        population_quantity = len(population)\n",
    "        indexes_to_cross = [x for x in range(population_quantity)]\n",
    "        for i in range(crossings_quantity):\n",
    "            rand_index1 = None\n",
    "            rand_index2 = None\n",
    "            while rand_index1 is None:\n",
    "                rand_index1 = random.choice(indexes_to_cross)\n",
    "            index_to_remove = indexes_to_cross.index(rand_index1)\n",
    "            indexes_to_cross[index_to_remove] = None\n",
    "            individual1 = population[rand_index1]\n",
    "\n",
    "            while rand_index2 is None:\n",
    "                rand_index2 = random.choice(indexes_to_cross)\n",
    "            index_to_remove = indexes_to_cross.index(rand_index2)\n",
    "            indexes_to_cross[index_to_remove] = None\n",
    "            individual2 = population[rand_index2]\n",
    "            \n",
    "            if self._choosing_if_we_exchange(probability):\n",
    "                individual1, individual2 = self._corssing_individuals(individual1, individual2)\n",
    "\n",
    "                population[rand_index1] = individual1\n",
    "                population[rand_index2] = individual2\n",
    "\n",
    "        return population\n",
    "\n",
    "    \n",
    "    def _mutation(self, population, probability):\n",
    "        'Mutates genes in the given population'\n",
    "        for individual in population:\n",
    "            length = len(individual)\n",
    "            for index in range(length):\n",
    "                if self._choosing_if_we_exchange(probability):\n",
    "                    individual[index] = 0 if individual[index] == 1 else 0\n",
    "                    \n",
    "        return population\n",
    "\n",
    "    def _update_parameters(self, kwargs):\n",
    "        self.quantity_of_population = self.quantity_of_population if \"quantity_of_population\" not in kwargs else kwargs[\"quantity_of_population\"]\n",
    "        self.mutation_possibility = self.mutation_possibility if \"mutation_possibility\" not in kwargs else kwargs[\"mutation_possibility\"]\n",
    "        self.crossing_possibility = self.crosing_possibility if \"crossing_possibility\" not in kwargs else kwargs[\"crossing_possibility\"]\n",
    "        self.max_iteration = self.max_iteration if \"max_iteration\" not in kwargs else kwargs[\"max_iteration\"]\n",
    "\n",
    "\n",
    "\n",
    "    def solve(self, problem, pop0, *args, **kwargs):\n",
    "        'Activates the genetic algorithm'\n",
    "        # Initialization\n",
    "\n",
    "        self._update_parameters(kwargs)\n",
    "\n",
    "        quantity_of_population = self.quantity_of_population\n",
    "        mutation_possibility = self.mutation_possibility\n",
    "        crossing_possibility = self.crosing_possibility\n",
    "        max_iteration = self.max_iteration\n",
    "        \n",
    "        \n",
    "        population = pop0[0:quantity_of_population]\n",
    "\n",
    "        score_list = problem(population)\n",
    "        best_individual, best_score = self._find_the_best(population, score_list)\n",
    "\n",
    "        for i in range(max_iteration):\n",
    "            population = self._reproduction(population, score_list)\n",
    "            population = self._crossing(population, crossing_possibility)\n",
    "            population = self._mutation(population, mutation_possibility)\n",
    "            score_list = problem(population)\n",
    "            best_individual_trial, best_score_trial = self._find_the_best(population, score_list)\n",
    "            if best_score_trial > best_score:\n",
    "                best_individual = best_individual_trial\n",
    "                best_score = best_score_trial\n",
    "        return best_individual, best_score"
   ]
  },
  {
   "cell_type": "markdown",
   "metadata": {},
   "source": [
    "### Hiperparametry przy których algorytm pracuje optymalnie\n",
    "\n",
    "* quantity_of_population = 200\n",
    "* mutation_possibility = 0.01 powinno być bardzo małe, to tylko pomocniczy mechanizm\n",
    "* crossing_possibility = 0.6 to jest główny motor algorytmu\n",
    "* max_iteration = 25"
   ]
  },
  {
   "cell_type": "markdown",
   "metadata": {},
   "source": [
    "## Testowanie algorytmu dla różnych wartości parawdopodobieństwa krzyżowania (pm)"
   ]
  },
  {
   "cell_type": "markdown",
   "metadata": {},
   "source": [
    "##### Stworzenie obiektu klasy GenericAlgorithm"
   ]
  },
  {
   "cell_type": "code",
   "execution_count": 44,
   "metadata": {},
   "outputs": [],
   "source": [
    "from copy import deepcopy\n",
    "gene_algoritm = GeneticAlgorithm()\n",
    "average_scores = []"
   ]
  },
  {
   "cell_type": "code",
   "execution_count": 45,
   "metadata": {},
   "outputs": [],
   "source": [
    "populations = []\n",
    "for i in range(100):\n",
    "    initial_population = [[random.randint(0, 1) for x in range(200)] \n",
    "                           for y in range(200)]\n",
    "    populations.append(deepcopy(initial_population))"
   ]
  },
  {
   "cell_type": "markdown",
   "metadata": {},
   "source": [
    "### Dla pm = 0.01"
   ]
  },
  {
   "cell_type": "code",
   "execution_count": 46,
   "metadata": {},
   "outputs": [],
   "source": [
    "average_score = 0\n",
    "for i in range(100):\n",
    "    initial_population = deepcopy(populations[i])\n",
    "    \n",
    "    individual, score = gene_algoritm.solve(evaluation, initial_population, crossing_probability=0.01)\n",
    "    average_score += score\n",
    "average_score /= 100\n",
    "average_scores.append(average_score)"
   ]
  },
  {
   "cell_type": "markdown",
   "metadata": {},
   "source": [
    "### Dla pm = 0.03"
   ]
  },
  {
   "cell_type": "code",
   "execution_count": 47,
   "metadata": {},
   "outputs": [],
   "source": [
    "average_score = 0\n",
    "for i in range(100):\n",
    "    initial_population = deepcopy(populations[i])\n",
    "    \n",
    "    individual, score = gene_algoritm.solve(evaluation, initial_population, mutation_possibility=0.03)\n",
    "    average_score += score\n",
    "average_score /= 100\n",
    "average_scores.append(average_score)"
   ]
  },
  {
   "cell_type": "markdown",
   "metadata": {},
   "source": [
    "### Dla pm = 0.07"
   ]
  },
  {
   "cell_type": "code",
   "execution_count": 48,
   "metadata": {},
   "outputs": [],
   "source": [
    "average_score = 0\n",
    "for i in range(100):\n",
    "\n",
    "    initial_population = deepcopy(populations[i])\n",
    "    \n",
    "    individual, score = gene_algoritm.solve(evaluation, initial_population, mutation_possibility=0.07)\n",
    "    average_score += score\n",
    "average_score /= 100\n",
    "average_scores.append(average_score)"
   ]
  },
  {
   "cell_type": "markdown",
   "metadata": {},
   "source": [
    "### Dla pm = 0.1"
   ]
  },
  {
   "cell_type": "code",
   "execution_count": 49,
   "metadata": {},
   "outputs": [],
   "source": [
    "average_score = 0\n",
    "for i in range(100):\n",
    "\n",
    "    initial_population = deepcopy(populations[i])\n",
    "    \n",
    "    individual, score = gene_algoritm.solve(evaluation, initial_population, mutation_possibility=0.1)\n",
    "    average_score += score\n",
    "average_score /= 100\n",
    "average_scores.append(average_score)"
   ]
  },
  {
   "cell_type": "markdown",
   "metadata": {},
   "source": [
    "### Dla pm = 0.3"
   ]
  },
  {
   "cell_type": "code",
   "execution_count": 50,
   "metadata": {},
   "outputs": [],
   "source": [
    "average_score = 0\n",
    "for i in range(100):\n",
    "    initial_population = deepcopy(populations[i])\n",
    "    \n",
    "    individual, score = gene_algoritm.solve(evaluation, initial_population, mutation_possibility=0.3)\n",
    "    average_score += score\n",
    "average_score /= 100\n",
    "average_scores.append(average_score)"
   ]
  },
  {
   "cell_type": "markdown",
   "metadata": {},
   "source": [
    "### Dla pm = 0.7"
   ]
  },
  {
   "cell_type": "code",
   "execution_count": 51,
   "metadata": {},
   "outputs": [],
   "source": [
    "average_score = 0\n",
    "for i in range(100):\n",
    "    initial_population = deepcopy(populations[i])\n",
    "    individual, score = gene_algoritm.solve(evaluation, initial_population, mutation_possibility=0.7)\n",
    "    average_score += score\n",
    "average_score /= 100\n",
    "average_scores.append(average_score)"
   ]
  },
  {
   "cell_type": "markdown",
   "metadata": {},
   "source": [
    "### Wykres zależności"
   ]
  },
  {
   "cell_type": "code",
   "execution_count": 53,
   "metadata": {},
   "outputs": [
    {
     "data": {
      "image/png": "[encoded data removed]",
      "text/plain": [
       "<Figure size 432x288 with 1 Axes>"
      ]
     },
     "metadata": {
      "needs_background": "light"
     },
     "output_type": "display_data"
    }
   ],
   "source": [
    "%matplotlib inline\n",
    "\n",
    "from matplotlib import pyplot as plt\n",
    "\n",
    "probability_list = [0.01, 0.03, 0.07, 0.1, 0.3, 0.7]\n",
    "\n",
    "\n",
    "plt.plot(average_scores, probability_list, marker='.')\n",
    "plt.title('Algorytm genetyczny dla różnych wartości pm')\n",
    "plt.tight_layout()\n",
    "plt.show()"
   ]
  },
  {
   "cell_type": "markdown",
   "metadata": {},
   "source": [
    "## Podsumowanie\n",
    "\n",
    "Z powyższego wykresu widać, że dla losowo wygenerowanych populacji średnio algortym radzi sobie najlepiej z najmniejszymi wartościami pm (0.01, 0.03). Wynik jest wiążący, pownieważ każda wartość parametru została przetestowana na identycznych populacjach wejściowych.  \n",
    "Doświadczenie pokazuje, że parametr pm jest tylko mechanizmem pomocniczym w algortymie genetycznym, zwiększającym różnorodność populacji. Jeżeli zwiększy się za bardzo prawdopodobieństwo mutacji _niszczy_ ona silne osobniki w populacji, co widać po śrenich na wykresie."
   ]
  }
 ],
 "metadata": {
  "kernelspec": {
   "display_name": "Python 3.10.6 64-bit",
   "language": "python",
   "name": "python3"
  },
  "language_info": {
   "codemirror_mode": {
    "name": "ipython",
    "version": 3
   },
   "file_extension": ".py",
   "mimetype": "text/x-python",
   "name": "python",
   "nbconvert_exporter": "python",
   "pygments_lexer": "ipython3",
   "version": "3.10.6"
  },
  "orig_nbformat": 4,
  "vscode": {
   "interpreter": {
    "hash": "916dbcbb3f70747c44a77c7bcd40155683ae19c65e1c03b4aa3499c5328201f1"
   }
  }
 },
 "nbformat": 4,
 "nbformat_minor": 2
}
